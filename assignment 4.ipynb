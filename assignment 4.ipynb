{
 "cells": [
  {
   "cell_type": "markdown",
   "metadata": {},
   "source": [
    "# Assignment Questions\n",
    "1.Using Numpy to generate an array of 25 random numbers sampled from a standard normal distribution"
   ]
  },
  {
   "cell_type": "code",
   "execution_count": 5,
   "metadata": {},
   "outputs": [
    {
     "data": {
      "text/plain": [
       "array([0.01910523, 0.20013368, 0.79926873, 0.9187036 , 0.7073234 ,\n",
       "       0.17688827, 0.81805105, 0.97486872, 0.91008892, 0.37734679,\n",
       "       0.47281161, 0.36055579, 0.49296064, 0.15027437, 0.10238684,\n",
       "       0.85480394, 0.51235525, 0.35313925, 0.82022373, 0.58041095,\n",
       "       0.86012199, 0.83164723, 0.87071591, 0.84480853, 0.88742564])"
      ]
     },
     "execution_count": 5,
     "metadata": {},
     "output_type": "execute_result"
    }
   ],
   "source": [
    "import numpy as np\n",
    "np.random.rand(25)"
   ]
  },
  {
   "cell_type": "markdown",
   "metadata": {},
   "source": [
    "# \n",
    "2.Create an array of 20 linear spaced points between 0 and 1\n",
    "\n"
   ]
  },
  {
   "cell_type": "code",
   "execution_count": 6,
   "metadata": {},
   "outputs": [
    {
     "data": {
      "text/plain": [
       "array([0.        , 0.05263158, 0.10526316, 0.15789474, 0.21052632,\n",
       "       0.26315789, 0.31578947, 0.36842105, 0.42105263, 0.47368421,\n",
       "       0.52631579, 0.57894737, 0.63157895, 0.68421053, 0.73684211,\n",
       "       0.78947368, 0.84210526, 0.89473684, 0.94736842, 1.        ])"
      ]
     },
     "execution_count": 6,
     "metadata": {},
     "output_type": "execute_result"
    }
   ],
   "source": [
    "np.linspace(0, 1, 20)"
   ]
  },
  {
   "cell_type": "markdown",
   "metadata": {},
   "source": [
    "# \n",
    "3.Declare a numpy array of values from 1 to 100 and make it into 10*10 matrix"
   ]
  },
  {
   "cell_type": "code",
   "execution_count": 34,
   "metadata": {},
   "outputs": [
    {
     "data": {
      "text/plain": [
       "array([[ 0,  1,  2,  3,  4,  5,  6,  7,  8,  9],\n",
       "       [10, 11, 12, 13, 14, 15, 16, 17, 18, 19],\n",
       "       [20, 21, 22, 23, 24, 25, 26, 27, 28, 29],\n",
       "       [30, 31, 32, 33, 34, 35, 36, 37, 38, 39],\n",
       "       [40, 41, 42, 43, 44, 45, 46, 47, 48, 49],\n",
       "       [50, 51, 52, 53, 54, 55, 56, 57, 58, 59],\n",
       "       [60, 61, 62, 63, 64, 65, 66, 67, 68, 69],\n",
       "       [70, 71, 72, 73, 74, 75, 76, 77, 78, 79],\n",
       "       [80, 81, 82, 83, 84, 85, 86, 87, 88, 89],\n",
       "       [90, 91, 92, 93, 94, 95, 96, 97, 98, 99]])"
      ]
     },
     "execution_count": 34,
     "metadata": {},
     "output_type": "execute_result"
    }
   ],
   "source": [
    "import numpy as np\n",
    "array = np.arange(100).reshape(10,10)\n",
    "array"
   ]
  },
  {
   "cell_type": "markdown",
   "metadata": {},
   "source": [
    "# \n",
    "4.Using the previously defind matrix print rows 1,5,6"
   ]
  },
  {
   "cell_type": "code",
   "execution_count": 8,
   "metadata": {},
   "outputs": [
    {
     "name": "stdout",
     "output_type": "stream",
     "text": [
      "[[10 11 12 13 14 15 16 17 18 19]\n",
      " [50 51 52 53 54 55 56 57 58 59]\n",
      " [60 61 62 63 64 65 66 67 68 69]]\n"
     ]
    }
   ],
   "source": [
    "print(array[[1,5,6]])"
   ]
  },
  {
   "cell_type": "markdown",
   "metadata": {},
   "source": [
    "# \n",
    "5.Using the previously defined matrix print elements from 3rd row to 10th row"
   ]
  },
  {
   "cell_type": "code",
   "execution_count": 35,
   "metadata": {},
   "outputs": [
    {
     "name": "stdout",
     "output_type": "stream",
     "text": [
      "[[30 31 32 33 34 35 36 37 38 39]\n",
      " [40 41 42 43 44 45 46 47 48 49]\n",
      " [50 51 52 53 54 55 56 57 58 59]\n",
      " [60 61 62 63 64 65 66 67 68 69]\n",
      " [70 71 72 73 74 75 76 77 78 79]\n",
      " [80 81 82 83 84 85 86 87 88 89]\n",
      " [90 91 92 93 94 95 96 97 98 99]]\n"
     ]
    }
   ],
   "source": [
    "print(array[3:])"
   ]
  },
  {
   "cell_type": "markdown",
   "metadata": {},
   "source": [
    "# \n",
    "6.Using the previously defined matrix print all the elements from 4th row to 8th row"
   ]
  },
  {
   "cell_type": "code",
   "execution_count": 16,
   "metadata": {},
   "outputs": [
    {
     "name": "stdout",
     "output_type": "stream",
     "text": [
      "[[ 3  4  5  6  7]\n",
      " [13 14 15 16 17]\n",
      " [23 24 25 26 27]\n",
      " [33 34 35 36 37]\n",
      " [43 44 45 46 47]\n",
      " [53 54 55 56 57]\n",
      " [63 64 65 66 67]\n",
      " [73 74 75 76 77]\n",
      " [83 84 85 86 87]\n",
      " [93 94 95 96 97]]\n"
     ]
    }
   ],
   "source": [
    "print(array[0:10,3:8])"
   ]
  },
  {
   "cell_type": "markdown",
   "metadata": {},
   "source": [
    "# \n",
    "7.Using the same matrix print values from 3rd row 2nd column to 5th row 8th column"
   ]
  },
  {
   "cell_type": "code",
   "execution_count": 17,
   "metadata": {},
   "outputs": [
    {
     "name": "stdout",
     "output_type": "stream",
     "text": [
      "[[21 22 23 24 25 26 27]\n",
      " [31 32 33 34 35 36 37]\n",
      " [41 42 43 44 45 46 47]]\n"
     ]
    }
   ],
   "source": [
    "print(array[2:5,1:8])"
   ]
  },
  {
   "cell_type": "markdown",
   "metadata": {},
   "source": [
    "#\n",
    "8.Write a code to generate random 1000 numbers each in range (0,1) such that the count of all random points like are almost same"
   ]
  },
  {
   "cell_type": "code",
   "execution_count": 36,
   "metadata": {},
   "outputs": [
    {
     "data": {
      "text/plain": [
       "array([1.30693617e-01, 1.15471021e-01, 1.99546054e-01, 2.27127671e-01,\n",
       "       8.61514676e-01, 1.12523794e-01, 7.22072526e-01, 4.87486787e-01,\n",
       "       8.25082111e-01, 2.41960763e-01, 2.87188643e-01, 2.72622262e-01,\n",
       "       4.10920633e-01, 5.89002430e-01, 4.44607575e-01, 1.83067815e-01,\n",
       "       6.36160165e-01, 2.66233762e-01, 9.76705611e-01, 4.09078428e-01,\n",
       "       4.96178068e-01, 3.48174361e-01, 2.60313026e-01, 3.37999361e-01,\n",
       "       8.91033088e-01, 7.22149121e-01, 2.38457073e-01, 9.87234753e-01,\n",
       "       3.40525759e-01, 7.63301608e-01, 4.86259730e-01, 4.55528521e-01,\n",
       "       2.89183089e-01, 9.48936150e-01, 5.46028538e-01, 9.17914969e-01,\n",
       "       5.30411043e-01, 8.92675079e-01, 7.94582784e-01, 3.16205738e-01,\n",
       "       8.95229568e-01, 8.55609811e-01, 5.89938821e-01, 2.83412616e-01,\n",
       "       4.15081096e-01, 3.06990621e-01, 8.13722682e-02, 1.43428292e-02,\n",
       "       1.96465030e-01, 4.44881104e-01, 9.39373446e-01, 6.83907239e-01,\n",
       "       4.07142558e-01, 3.59498806e-01, 9.57777591e-01, 6.30065566e-01,\n",
       "       9.39311073e-01, 5.14745730e-02, 4.49520928e-01, 3.08275608e-01,\n",
       "       5.27689110e-02, 3.87920837e-01, 8.90956888e-01, 6.19844875e-01,\n",
       "       1.58481567e-01, 6.08442916e-01, 2.77472563e-01, 2.87690860e-01,\n",
       "       1.85855913e-01, 8.99663069e-01, 3.64131206e-01, 7.83608786e-01,\n",
       "       4.02091746e-01, 1.69044660e-01, 3.46015931e-02, 4.46152972e-01,\n",
       "       2.29723247e-01, 8.00587463e-01, 9.02395052e-02, 9.74825272e-01,\n",
       "       9.75137227e-01, 5.31301113e-01, 8.79614577e-01, 7.98797255e-01,\n",
       "       5.30124535e-01, 2.23299629e-04, 1.91991723e-01, 2.62018345e-01,\n",
       "       6.36979444e-01, 3.49092986e-01, 2.34801960e-01, 7.26260112e-01,\n",
       "       3.50567471e-01, 5.68326326e-01, 6.45424338e-01, 2.06208043e-01,\n",
       "       2.53466474e-01, 9.78343530e-01, 3.91839929e-01, 6.85710300e-01])"
      ]
     },
     "execution_count": 36,
     "metadata": {},
     "output_type": "execute_result"
    }
   ],
   "source": [
    "np.random.rand(100)"
   ]
  },
  {
   "cell_type": "code",
   "execution_count": 37,
   "metadata": {},
   "outputs": [
    {
     "data": {
      "text/plain": [
       "4.5"
      ]
     },
     "execution_count": 37,
     "metadata": {},
     "output_type": "execute_result"
    }
   ],
   "source": [
    "a = np.array([[7, 2], [5, 4]])\n",
    "np.mean(a)"
   ]
  },
  {
   "cell_type": "code",
   "execution_count": 38,
   "metadata": {},
   "outputs": [
    {
     "data": {
      "text/plain": [
       "4.5"
      ]
     },
     "execution_count": 38,
     "metadata": {},
     "output_type": "execute_result"
    }
   ],
   "source": [
    "np.median(a)"
   ]
  },
  {
   "cell_type": "code",
   "execution_count": 39,
   "metadata": {},
   "outputs": [
    {
     "data": {
      "text/plain": [
       "1.8027756377319946"
      ]
     },
     "execution_count": 39,
     "metadata": {},
     "output_type": "execute_result"
    }
   ],
   "source": [
    "np.std(a)"
   ]
  },
  {
   "cell_type": "code",
   "execution_count": 40,
   "metadata": {},
   "outputs": [
    {
     "data": {
      "text/plain": [
       "array([[7, 1, 1, 7],\n",
       "       [9, 4, 3, 8],\n",
       "       [6, 1, 9, 7],\n",
       "       [9, 7, 2, 5],\n",
       "       [5, 1, 5, 9]])"
      ]
     },
     "execution_count": 40,
     "metadata": {},
     "output_type": "execute_result"
    }
   ],
   "source": [
    "a = np.array([[7, 1, 1, 7],\n",
    "             [9, 4, 3, 8],\n",
    "             [6, 1, 9, 7],\n",
    "             [9, 7, 2, 5],\n",
    "             [5, 1, 5, 9]])\n",
    "a"
   ]
  },
  {
   "cell_type": "code",
   "execution_count": 41,
   "metadata": {},
   "outputs": [
    {
     "data": {
      "text/plain": [
       "ModeResult(mode=array([[9, 1, 1, 7]]), count=array([[2, 3, 1, 2]]))"
      ]
     },
     "execution_count": 41,
     "metadata": {},
     "output_type": "execute_result"
    }
   ],
   "source": [
    "from scipy import stats\n",
    "stats.mode(a)"
   ]
  },
  {
   "cell_type": "code",
   "execution_count": null,
   "metadata": {},
   "outputs": [],
   "source": []
  }
 ],
 "metadata": {
  "kernelspec": {
   "display_name": "Python 3",
   "language": "python",
   "name": "python3"
  },
  "language_info": {
   "codemirror_mode": {
    "name": "ipython",
    "version": 3
   },
   "file_extension": ".py",
   "mimetype": "text/x-python",
   "name": "python",
   "nbconvert_exporter": "python",
   "pygments_lexer": "ipython3",
   "version": "3.7.3"
  }
 },
 "nbformat": 4,
 "nbformat_minor": 4
}
